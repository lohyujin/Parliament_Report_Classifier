{
 "cells": [
  {
   "cell_type": "code",
   "execution_count": 1,
   "metadata": {},
   "outputs": [],
   "source": [
    "import numpy as np\n",
    "import pandas as pd\n",
    "import nltk\n",
    "import re\n",
    "import os\n",
    "import csv\n",
    "from nltk.tokenize import RegexpTokenizer\n",
    "from scipy.spatial.distance import cdist\n",
    "from sklearn.metrics import silhouette_score\n",
    "import plotly\n",
    "import plotly.graph_objs as go\n",
    "from nltk.stem.porter import *\n",
    "from nltk.stem import WordNetLemmatizer, SnowballStemmer\n",
    "from sklearn.feature_extraction.text import TfidfVectorizer\n",
    "from sklearn.metrics.pairwise import cosine_similarity\n",
    "from sklearn.cluster import KMeans\n",
    "import matplotlib.pyplot as plt\n",
    "from datetime import datetime\n",
    "from nltk.corpus import stopwords\n",
    "import re\n",
    "from nltk.tokenize import sent_tokenize, word_tokenize\n",
    "import string\n",
    "from nltk.corpus import stopwords\n",
    "from nltk.stem import WordNetLemmatizer"
   ]
  },
  {
   "cell_type": "code",
   "execution_count": 2,
   "metadata": {},
   "outputs": [],
   "source": [
    "# Function to parse date\n",
    "dateparse = lambda x: datetime.strptime(x, '%Y-%m-%d')\n",
    "\n",
    "# Read CSV while parsing the dates\n",
    "opinion_df = pd.read_csv('all_opinions.csv', parse_dates=['date_filed'], date_parser=dateparse)\n",
    "\n",
    "# Copy the main df\n",
    "opinion_copy = opinion_df.copy()\n",
    "\n",
    "# Get opinions in the past 50 years\n",
    "above_1970 = opinion_copy[opinion_copy['date_filed'] > \"1970-01-01\"]\n",
    "\n",
    "# Remove Justice Douglas given how his opinions is highly unusual\n",
    "# Refer to https://www.thenation.com/article/archive/tragedy-william-o-douglas/\n",
    "above_1970_no_douglas = above_1970[above_1970['author_name'] != 'Justice Douglas']\n",
    "\n",
    "# Remove those texts with less than 3000 characters as these are recounting past opinions\n",
    "# Refer to https://www.kaggle.com/gqfiddler/scotus-opinions description of the dataset\n",
    "char_above3000_1970 = above_1970_no_douglas[above_1970_no_douglas['text'].str.len() > 3000]\n",
    "\n",
    "# Drop values that are not relevant for our analysis\n",
    "to_analyze = char_above3000_1970.drop(columns=['absolute_url', 'cluster', 'year_filed', \n",
    "                                      'scdb_id', 'date_filed', 'author_name', 'federal_cite_one',\n",
    "                                       'scdb_decision_direction', 'scdb_votes_majority', 'scdb_votes_minority'])\n",
    "# Check the new_df\n",
    "to_analyze = to_analyze.reset_index(drop=True)\n",
    "to_analyze = to_analyze[:2000]"
   ]
  },
  {
   "cell_type": "code",
   "execution_count": 3,
   "metadata": {},
   "outputs": [],
   "source": [
    "# Function to preprocess text\n",
    "\n",
    "def clean(x):\n",
    "    \n",
    "    # Split the case name into array for individual capitalizing\n",
    "    case_name_array = x['case_name'].split()\n",
    "    \n",
    "    # Iterate through the words to capitalize\n",
    "    for i in range(len(case_name_array)):\n",
    "        \n",
    "        # If word not versus, capitalize it to remove later\n",
    "        if case_name_array[i] != 'v.':\n",
    "            case_name_array[i] = case_name_array[i].upper()\n",
    "    \n",
    "    # Join the case name array together\n",
    "    case_name = ' '.join(case_name_array)\n",
    "    \n",
    "    # 1. Standardizing some punctuations\n",
    "    tmp = x['text'].replace('’', \"'\")\n",
    "#     tmp = tmp.replace('“', '\"')\n",
    "#     tmp = tmp.replace('”', '\"')\n",
    "    tmp = tmp.replace('–', \"-\")\n",
    "    tmp = re.sub(r'([.]\\s+){2,10}', '', tmp)\n",
    "    tmp = tmp.replace('[', '')\n",
    "    tmp = tmp.replace(']', '')\n",
    "    \n",
    "    # 2. Remove redundant words\n",
    "    \n",
    "    # A. (i) Remove Cite as: since these are words that keep appearing at the bottom of the transcript for citation\n",
    "    tmp = re.sub(r'Cite as:(.*?)\\((\\d{4})\\)', '', tmp)\n",
    "    \n",
    "    # A. (ii) Remove Opinion of Justice given it is a demarcation of the transcript\n",
    "    tmp = re.sub(r'Opinion\\s(.*?)\\n', '', tmp)\n",
    "    \n",
    "    # B. Remove Case Name\n",
    "    tmp = re.sub(f'''{case_name}''', '', tmp)\n",
    "    \n",
    "    #B. Remove See ... (As these are citations of previous cases to be used)\n",
    "    # Three Cases\n",
    "    # i) See case and citation\n",
    "    see_pattern = re.compile(r\"See(.*?)(\\)\\.|\\)\\;|\\d\\.)\", re.DOTALL)\n",
    "    tmp = re.sub(see_pattern, '', tmp)\n",
    "    \n",
    "    # (ii) Remove quotes i.e. Herring v. New York, 422 U.S. 853, 862 (1975)\n",
    "#     tmp = re.sub(r'', '', tmp)\n",
    "\n",
    "#     print(tmp)\n",
    "    \n",
    "    # 3. Remove unicode characters in text\n",
    "    tmp = re.sub(r'[^\\x00-\\x7F]+', '', tmp)\n",
    "    \n",
    "    # 4. Remove breakline in text\n",
    "    \n",
    "    # A. Embedded in the string (-\\\\n)\n",
    "    tmp = re.sub(r'-\\n\\s{1,}', '', tmp)\n",
    "    tmp = re.sub(r'-\\n', '', tmp) \n",
    "    \n",
    "    # B. Remove long breaks\n",
    "    tmp = re.sub(r'\\n\\s+', ' ', tmp)\n",
    "    \n",
    "    # C. Remove the remaining breaklines\n",
    "    tmp = re.sub(r'\\n', ' ', tmp)\n",
    "    \n",
    "    # 5. Remove Numbers that demarcate sections of opinions\n",
    "    tmp = re.sub(r'\\s\\d{1,}\\s{2,}', ' ', tmp)\n",
    "    \n",
    "    return tmp\n",
    "\n",
    "# Instantiate the set of stopwords\n",
    "stoplist = stopwords.words('english')\n",
    "stoplist += ['u', 'state', 'court', 'id', 'amendment', 'respondent', 'appeal', 'case', 'may','could','would', 'c', 'v', 'u', 'one', 'see', 'even', 'issue', 'however', 'supra', 'clause', 'constitutional', 'jury', 'petitioner', 'j', 'requirement', 'ante', 'claim', 'standard', 'process', 'review', 'regulation', 'employee', 'judge', 'criminal', 'n', 'statutory', 'majority', 'individual', 'argument', 'benefit', 'judicial', 'policy', 'result', 'conduct', 'required', 'agency', 'school', 'officer', 'statement', 'violation', 'rather', 'particular', 'ibid', 'circumstance', 'support', 'second', 'protection', 'reasonable', 'party', 'counsel', 'basis', 'clear', 'plan', 'language', 'application', 'sentence', 'well', 'law', 'system', 'member', 'dissenting', 'principle', 'holding', 'need', 'mean', 'procedure', 'although', 'conclusion', 'based', 'private', 'app', 'defendant', 'due', 'practice', 'relief', 'respect', 'since', 'attorney', 'year', 'proceeding', 'prior', 'b', 'legislative', 'provision', 'crime', 'different', 'agreement', 'point', 'inc', 'civil', 'rule', 'provide', 'union', 'today', 'employer', 'purpose', 'way', 'legal', 'decision', 'course', 'child', 'activity', 'finding', 'offense', 'brief', 'statute', 'damage', 'history', 'hearing', 'relevant', 'simply', 'certain', 'conviction', 'ed', 'official', 'remedy', 'require', 'set', 'used', 'interpretation', 'word', 'information', 'police', 'term', 'provides', 'national', 'requires', 'class', 'intended', 'apply', 'concluded', 'death', 'interest', 'example', 'cost', 'place', 'le', 'work', 'hold', 'determination', 'exercise', 'burden', 'ii', 'indeed', 'like', 'say', 'granted', 'limitation', 'emphasis', 'consideration', 'test', 'concurring', 'find', 'take', 'concern', 'person', 'immunity', 'either', 'filed', 'discrimination', 'fact', 'give', 'iii', 'permit', 'three', 'program', 'liability', 'supp', 'meaning', 'petition', 'another', 'applied', 'search', 'report', 'limited', 'challenge', 'added', 'california', 'f', 'motion', 'exception', 'least', 'consider', 'substantial', 'intent', 'defense', 'appropriate', 'fee', 'reason', 'dissent', 'many', 'recognized', 'limit', 'injury', 'nothing', 'l']\n",
    "stopwords_set = set(stoplist)\n",
    "\n",
    "# Instantiate lemmatizer\n",
    "lemmatizer = WordNetLemmatizer()\n",
    "\n",
    "def preprocess(x):\n",
    "    \n",
    "    # 1. Lower case\n",
    "    tmp = x.lower()\n",
    "    \n",
    "    # 2. Remove punctuations\n",
    "    tmp = tmp.translate(str.maketrans('', '', string.punctuation))\n",
    "    \n",
    "    # 3. Tokenize the sentences\n",
    "    tokens = word_tokenize(tmp)\n",
    "    \n",
    "    # 4. Remove stopwords\n",
    "    no_stopwords = [word for word in tokens if word not in stopwords_set and word.isalpha()]\n",
    "    \n",
    "    # 5. Lemmatize\n",
    "    lemma_text = ' '.join([lemmatizer.lemmatize(word) for word in no_stopwords])\n",
    "    \n",
    "    return lemma_text\n",
    "\n",
    "to_analyze['cleaned_text'] = to_analyze.apply(lambda x : clean(x), axis=1)\n",
    "to_analyze['preprocessed_text'] = to_analyze['cleaned_text'].apply(lambda x: preprocess(x))\n"
   ]
  },
  {
   "cell_type": "code",
   "execution_count": 4,
   "metadata": {},
   "outputs": [],
   "source": [
    "from sklearn.feature_extraction import stop_words\n",
    "stopList=(stop_words.ENGLISH_STOP_WORDS)\n",
    "stopList = [stop.lower() for stop in stopList]\n",
    "additional_stop_words = ['u', 'state', 'court', 'id', 'amendment', 'respondent', 'appeal', 'case', 'may','could','would', 'c', 'v', 'u', 'one', 'see', 'even', 'issue', 'however', 'supra', 'clause', 'constitutional', 'jury', 'petitioner', 'j', 'requirement', 'ante', 'claim', 'standard', 'process', 'review', 'regulation', 'employee', 'judge', 'criminal', 'n', 'statutory', 'majority', 'individual', 'argument', 'benefit', 'judicial', 'policy', 'result', 'conduct', 'required', 'agency', 'school', 'officer', 'statement', 'violation', 'rather', 'particular', 'ibid', 'circumstance', 'support', 'second', 'protection', 'reasonable', 'party', 'counsel', 'basis', 'clear', 'plan', 'language', 'application', 'sentence', 'well', 'law', 'system', 'member', 'dissenting', 'principle', 'holding', 'need', 'mean', 'procedure', 'although', 'conclusion', 'based', 'private', 'app', 'defendant', 'due', 'practice', 'relief', 'respect', 'since', 'attorney', 'year', 'proceeding', 'prior', 'b', 'legislative', 'provision', 'crime', 'different', 'agreement', 'point', 'inc', 'civil', 'rule', 'provide', 'union', 'today', 'employer', 'purpose', 'way', 'legal', 'decision', 'course', 'child', 'activity', 'finding', 'offense', 'brief', 'statute', 'damage', 'history', 'hearing', 'relevant', 'simply', 'certain', 'conviction', 'ed', 'official', 'remedy', 'require', 'set', 'used', 'interpretation', 'word', 'information', 'police', 'term', 'provides', 'national', 'requires', 'class', 'intended', 'apply', 'concluded', 'death', 'interest', 'example', 'cost', 'place', 'le', 'work', 'hold', 'determination', 'exercise', 'burden', 'ii', 'indeed', 'like', 'say', 'granted', 'limitation', 'emphasis', 'consideration', 'test', 'concurring', 'find', 'take', 'concern', 'person', 'immunity', 'either', 'filed', 'discrimination', 'fact', 'give', 'iii', 'permit', 'three', 'program', 'liability', 'supp', 'meaning', 'petition', 'another', 'applied', 'search', 'report', 'limited', 'challenge', 'added', 'california', 'f', 'motion', 'exception', 'least', 'consider', 'substantial', 'intent', 'defense', 'appropriate', 'fee', 'reason', 'dissent', 'many', 'recognized', 'limit', 'injury', 'nothing', 'l']\n",
    "stopList += additional_stop_words"
   ]
  },
  {
   "cell_type": "code",
   "execution_count": 5,
   "metadata": {},
   "outputs": [],
   "source": [
    "#Cleaning fundmental and create tokens\n",
    "def clean_text(text):\n",
    "    #tokenization\n",
    "    tokens = []\n",
    "    for sent in nltk.sent_tokenize(text):\n",
    "        for word in nltk.word_tokenize(sent):\n",
    "            tokens.append(word)\n",
    "    filtered_tokens = []\n",
    "    for token in tokens:\n",
    "        token = token.lower()\n",
    "        if re.search('[a-zA-Z]', token):\n",
    "            if token not in stopList:\n",
    "                filtered_tokens.append(token)   #punctuation, stop word and NER\n",
    "    \n",
    "    return filtered_tokens"
   ]
  },
  {
   "cell_type": "code",
   "execution_count": 6,
   "metadata": {},
   "outputs": [],
   "source": [
    "#cleaning data with Lemma\n",
    "def lemma_text(text):\n",
    "    cleaned_text = clean_text(text)\n",
    "    stemmer = PorterStemmer()\n",
    "    stemmed_tokens = []\n",
    "    #lemmatization and stemming\n",
    "    for token in cleaned_text:\n",
    "        stemmed_tokens.append(WordNetLemmatizer().lemmatize(token))\n",
    "    return stemmed_tokens"
   ]
  },
  {
   "cell_type": "code",
   "execution_count": 7,
   "metadata": {},
   "outputs": [],
   "source": [
    "reviews = to_analyze.preprocessed_text\n",
    "lemmaList = reviews.apply(lemma_text)"
   ]
  },
  {
   "cell_type": "code",
   "execution_count": 8,
   "metadata": {},
   "outputs": [],
   "source": [
    "#Sen token\n",
    "def sent_2_doc(document):    \n",
    "    clean_words = \" \".join([sent for sent in document])\n",
    "    return clean_words"
   ]
  },
  {
   "cell_type": "code",
   "execution_count": 9,
   "metadata": {},
   "outputs": [],
   "source": [
    "lemmaDocList = [sent_2_doc(doc) for doc in lemmaList]"
   ]
  },
  {
   "cell_type": "code",
   "execution_count": 10,
   "metadata": {},
   "outputs": [],
   "source": [
    "#Vectors\n",
    "lemma_tfidf_vec = TfidfVectorizer(tokenizer=lemma_text)\n",
    "lemma_tfidf_matrix = lemma_tfidf_vec.fit_transform(reviews)\n",
    "lemma_terms = lemma_tfidf_vec.get_feature_names()"
   ]
  },
  {
   "cell_type": "code",
   "execution_count": 11,
   "metadata": {},
   "outputs": [],
   "source": [
    "desc = to_analyze.preprocessed_text.values\n",
    "vectorizer = TfidfVectorizer(tokenizer=lemma_text)\n",
    "X3 = vectorizer.fit_transform(desc)\n",
    "words3= vectorizer.get_feature_names()"
   ]
  },
  {
   "cell_type": "code",
   "execution_count": null,
   "metadata": {},
   "outputs": [],
   "source": [
    "#Elbow\n",
    "distortions = []\n",
    "K = range(1,11)\n",
    "for i in range(2,30):\n",
    "    kmeans = KMeans(n_clusters=i,init='k-means++',max_iter=300,n_init=10,random_state=0)\n",
    "    kmeans.fit(X3)\n",
    "    distortions.append(kmeans.inertia_)\n",
    "plt.plot(range(2,30),distortions)\n",
    "plt.title('The Elbow Method')\n",
    "plt.xlabel('Number of clusters')\n",
    "plt.ylabel('distortions')\n",
    "plt.savefig('./elbow_Kmeans.png')\n",
    "plt.show()"
   ]
  },
  {
   "cell_type": "code",
   "execution_count": 12,
   "metadata": {},
   "outputs": [],
   "source": [
    "NUM_CLUSTERS = 12 #Change this according to the elbow method"
   ]
  },
  {
   "cell_type": "code",
   "execution_count": 14,
   "metadata": {},
   "outputs": [],
   "source": [
    "#K-means\n",
    "lemma_km = KMeans(n_clusters=NUM_CLUSTERS, init='k-means++', max_iter=50, n_init=20)\n",
    "lemma_km.fit(lemma_tfidf_matrix)\n",
    "lemma_clusters = lemma_km.labels_.tolist()"
   ]
  },
  {
   "cell_type": "code",
   "execution_count": 15,
   "metadata": {},
   "outputs": [],
   "source": [
    "#create a dataframe df for only reviews. we will focus only on reviews for saving the output\n",
    "df = pd.DataFrame({'Options':lemmaDocList}) "
   ]
  },
  {
   "cell_type": "code",
   "execution_count": 16,
   "metadata": {},
   "outputs": [
    {
     "name": "stdout",
     "output_type": "stream",
     "text": [
      "<class 'list'>\n",
      "Saving to csv\n"
     ]
    }
   ],
   "source": [
    "#Storing Cluster number and labels for each comment\n",
    "comment_cluster_df = pd.DataFrame(df)\n",
    "\n",
    "order_centroids = lemma_km.cluster_centers_.argsort()[:, ::-1]\n",
    "n_words_5=5\n",
    "label_list=[]\n",
    "words_list=[]\n",
    "print(type(lemma_clusters))\n",
    "for i in range(len(lemma_clusters)):\n",
    "    topicWords = []\n",
    "    #print(lemma_clusters[i])\n",
    "    for ind in order_centroids[lemma_clusters[i], :n_words_5]:\n",
    "        #print(' %s' % clean_terms[ind]),\n",
    "        topicWords.append(lemma_terms[ind])\n",
    "    #print(topicWords)\n",
    "    label_list.append(str(lemma_clusters[i]))\n",
    "    words_list.append(str(topicWords))\n",
    "    \n",
    "comment_cluster_df['freq_words'] = label_list\n",
    "comment_cluster_df['comment_label'] = words_list\n",
    "print('Saving to csv')\n",
    "comment_cluster_df.to_csv('./clustering_output.csv', index=False)\n",
    "\n",
    "    #clean_predictedTopic_5.append(topicWords)"
   ]
  },
  {
   "cell_type": "code",
   "execution_count": 17,
   "metadata": {},
   "outputs": [
    {
     "name": "stdout",
     "output_type": "stream",
     "text": [
      "['abortion', 'patient', 'father', 'woman', 'pregnancy']\n",
      "['election', 'candidate', 'voting', 'political', 'voter']\n",
      "['arbitration', 'labor', 'bargaining', 'contract', 'collectivebargaining']\n",
      "['religious', 'speech', 'ordinance', 'religion', 'public']\n",
      "['trial', 'evidence', 'juror', 'right', 'sentencing']\n",
      "['tax', 'income', 'taxpayer', 'commerce', 'property']\n",
      "['fourth', 'prison', 'alien', 'united', 'sentencing']\n",
      "['exemption', 'disclosure', 'foia', 'compiled', 'document']\n",
      "['vii', 'title', 'racial', 'district', 'race']\n",
      "['act', 'congress', 'federal', 'property', 'action']\n",
      "['federal', 'district', 'jurisdiction', 'action', 'habeas']\n",
      "['indian', 'tribe', 'tribal', 'reservation', 'land']\n"
     ]
    }
   ],
   "source": [
    "# Print Cluster Topics\n",
    "unique_set=set(words_list)\n",
    "#print(unique_set)\n",
    "unique_list=list(unique_set)\n",
    "for elem in unique_list:\n",
    "        print(elem) "
   ]
  },
  {
   "cell_type": "code",
   "execution_count": 18,
   "metadata": {},
   "outputs": [
    {
     "ename": "TypeError",
     "evalue": "sparse matrix length is ambiguous; use getnnz() or shape[0]",
     "output_type": "error",
     "traceback": [
      "\u001b[1;31m---------------------------------------------------------------------------\u001b[0m",
      "\u001b[1;31mTypeError\u001b[0m                                 Traceback (most recent call last)",
      "\u001b[1;32m<ipython-input-18-88062695f891>\u001b[0m in \u001b[0;36m<module>\u001b[1;34m\u001b[0m\n\u001b[0;32m     16\u001b[0m     \u001b[1;31m# The (n_clusters+1)*10 is for inserting blank space between silhouette\u001b[0m\u001b[1;33m\u001b[0m\u001b[1;33m\u001b[0m\u001b[1;33m\u001b[0m\u001b[0m\n\u001b[0;32m     17\u001b[0m     \u001b[1;31m# plots of individual clusters, to demarcate them clearly.\u001b[0m\u001b[1;33m\u001b[0m\u001b[1;33m\u001b[0m\u001b[1;33m\u001b[0m\u001b[0m\n\u001b[1;32m---> 18\u001b[1;33m     \u001b[0max1\u001b[0m\u001b[1;33m.\u001b[0m\u001b[0mset_ylim\u001b[0m\u001b[1;33m(\u001b[0m\u001b[1;33m[\u001b[0m\u001b[1;36m0\u001b[0m\u001b[1;33m,\u001b[0m \u001b[0mlen\u001b[0m\u001b[1;33m(\u001b[0m\u001b[0mX3\u001b[0m\u001b[1;33m)\u001b[0m \u001b[1;33m+\u001b[0m \u001b[1;33m(\u001b[0m\u001b[0mn_clusters\u001b[0m \u001b[1;33m+\u001b[0m \u001b[1;36m1\u001b[0m\u001b[1;33m)\u001b[0m \u001b[1;33m*\u001b[0m \u001b[1;36m10\u001b[0m\u001b[1;33m]\u001b[0m\u001b[1;33m)\u001b[0m\u001b[1;33m\u001b[0m\u001b[1;33m\u001b[0m\u001b[0m\n\u001b[0m\u001b[0;32m     19\u001b[0m \u001b[1;33m\u001b[0m\u001b[0m\n\u001b[0;32m     20\u001b[0m     \u001b[1;31m#Cluster\u001b[0m\u001b[1;33m\u001b[0m\u001b[1;33m\u001b[0m\u001b[1;33m\u001b[0m\u001b[0m\n",
      "\u001b[1;32m~\\Anaconda3\\lib\\site-packages\\scipy\\sparse\\base.py\u001b[0m in \u001b[0;36m__len__\u001b[1;34m(self)\u001b[0m\n\u001b[0;32m    293\u001b[0m     \u001b[1;31m# non-zeros is more important.  For now, raise an exception!\u001b[0m\u001b[1;33m\u001b[0m\u001b[1;33m\u001b[0m\u001b[1;33m\u001b[0m\u001b[0m\n\u001b[0;32m    294\u001b[0m     \u001b[1;32mdef\u001b[0m \u001b[0m__len__\u001b[0m\u001b[1;33m(\u001b[0m\u001b[0mself\u001b[0m\u001b[1;33m)\u001b[0m\u001b[1;33m:\u001b[0m\u001b[1;33m\u001b[0m\u001b[1;33m\u001b[0m\u001b[0m\n\u001b[1;32m--> 295\u001b[1;33m         raise TypeError(\"sparse matrix length is ambiguous; use getnnz()\"\n\u001b[0m\u001b[0;32m    296\u001b[0m                         \" or shape[0]\")\n\u001b[0;32m    297\u001b[0m \u001b[1;33m\u001b[0m\u001b[0m\n",
      "\u001b[1;31mTypeError\u001b[0m: sparse matrix length is ambiguous; use getnnz() or shape[0]"
     ]
    },
    {
     "data": {
      "image/png": "[encoded data removed]",
      "text/plain": [
       "<Figure size 1296x504 with 2 Axes>"
      ]
     },
     "metadata": {
      "needs_background": "light"
     },
     "output_type": "display_data"
    }
   ],
   "source": [
    "#Silhoutte Approach\n",
    "from sklearn.datasets import make_blobs\n",
    "from sklearn.metrics import silhouette_samples, silhouette_score\n",
    "import matplotlib.cm as cm\n",
    "\n",
    "range_n_clusters = [2, 3, 4, 5, 6, 7, 8, 9, 10]\n",
    "for n_clusters in range_n_clusters:\n",
    "    # Create a subplot with 1 row and 2 columns\n",
    "    fig, (ax1, ax2) = plt.subplots(1, 2)\n",
    "    fig.set_size_inches(18, 7)\n",
    "\n",
    "    # The 1st subplot is the silhouette plot\n",
    "    # The silhouette coefficient can range from -1, 1 but in this example all\n",
    "    # lie within [-0.1, 1]\n",
    "    ax1.set_xlim([-0.1, 1])\n",
    "    # The (n_clusters+1)*10 is for inserting blank space between silhouette\n",
    "    # plots of individual clusters, to demarcate them clearly.\n",
    "    ax1.set_ylim([0, len(X3) + (n_clusters + 1) * 10])\n",
    "    \n",
    "    #Cluster\n",
    "    lemma_S= KMeans(n_clusters=n_clusters, init='k-means++', max_iter=200, n_init=20)\n",
    "    cluster_labels = lemma_S.fit_predict(X3)\n",
    "    \n",
    "    silhouette_avg = silhouette_score(X3, cluster_labels)\n",
    "    print(\"For n_clusters =\", n_clusters,\n",
    "          \"The average silhouette_score is :\", silhouette_avg)\n",
    "\n",
    "     # Compute the silhouette scores for each sample\n",
    "    sample_silhouette_values = silhouette_samples(X3, cluster_labels)\n",
    "    y_lower = 10\n",
    "    for i in range(n_clusters):\n",
    "        # Aggregate the silhouette scores for samples belonging to\n",
    "        # cluster i, and sort them\n",
    "        ith_cluster_silhouette_values = \\\n",
    "            sample_silhouette_values[cluster_labels == i]\n",
    "\n",
    "        ith_cluster_silhouette_values.sort()\n",
    "\n",
    "        size_cluster_i = ith_cluster_silhouette_values.shape[0]\n",
    "        y_upper = y_lower + size_cluster_i\n",
    "\n",
    "        color = cm.nipy_spectral(float(i) / n_clusters)\n",
    "        ax1.fill_betweenx(np.arange(y_lower, y_upper),\n",
    "                          0, ith_cluster_silhouette_values,\n",
    "                          facecolor=color, edgecolor=color, alpha=0.7)\n",
    "\n",
    "        # Label the silhouette plots with their cluster numbers at the middle\n",
    "        ax1.text(-0.05, y_lower + 0.5 * size_cluster_i, str(i))\n",
    "\n",
    "        # Compute the new y_lower for next plot\n",
    "        y_lower = y_upper + 10  # 10 for the 0 samples\n",
    "\n",
    "    ax1.set_title(\"The silhouette plot for the various clusters.\")\n",
    "    ax1.set_xlabel(\"The silhouette coefficient values\")\n",
    "    ax1.set_ylabel(\"Cluster label\")\n",
    "\n",
    "    # The vertical line for average silhouette score of all the values\n",
    "    ax1.axvline(x=silhouette_avg, color=\"red\", linestyle=\"--\")\n",
    "\n",
    "    ax1.set_yticks([])  # Clear the yaxis labels / ticks\n",
    "    ax1.set_xticks([-0.1, 0, 0.2, 0.4, 0.6, 0.8, 1])\n",
    "\n",
    "    # 2nd Plot showing the actual clusters formed\n",
    "    colors = cm.nipy_spectral(cluster_labels.astype(float) / n_clusters)\n",
    "    ax2.scatter(X3[:, 0], X3[:, 1], marker='.', s=30, lw=0, alpha=0.7,\n",
    "                c=colors, edgecolor='k')\n",
    "\n",
    "    # Labeling the clusters\n",
    "    centers = clusterer.cluster_centers_\n",
    "    # Draw white circles at cluster centers\n",
    "    ax2.scatter(centers[:, 0], centers[:, 1], marker='o',\n",
    "                c=\"white\", alpha=1, s=200, edgecolor='k')\n",
    "\n",
    "    for i, c in enumerate(centers):\n",
    "        ax2.scatter(c[0], c[1], marker='$%d$' % i, alpha=1,\n",
    "                    s=50, edgecolor='k')\n",
    "\n",
    "    ax2.set_title(\"The visualization of the clustered data.\")\n",
    "    ax2.set_xlabel(\"Feature space for the 1st feature\")\n",
    "    ax2.set_ylabel(\"Feature space for the 2nd feature\")\n",
    "\n",
    "    plt.suptitle((\"Silhouette analysis for KMeans clustering on sample data \"\n",
    "                  \"with n_clusters = %d\" % n_clusters),\n",
    "                 fontsize=14, fontweight='bold')\n",
    "\n",
    "plt.show()"
   ]
  },
  {
   "cell_type": "code",
   "execution_count": null,
   "metadata": {},
   "outputs": [],
   "source": []
  }
 ],
 "metadata": {
  "kernelspec": {
   "display_name": "Python 3",
   "language": "python",
   "name": "python3"
  },
  "language_info": {
   "codemirror_mode": {
    "name": "ipython",
    "version": 3
   },
   "file_extension": ".py",
   "mimetype": "text/x-python",
   "name": "python",
   "nbconvert_exporter": "python",
   "pygments_lexer": "ipython3",
   "version": "3.7.4"
  }
 },
 "nbformat": 4,
 "nbformat_minor": 2
}
